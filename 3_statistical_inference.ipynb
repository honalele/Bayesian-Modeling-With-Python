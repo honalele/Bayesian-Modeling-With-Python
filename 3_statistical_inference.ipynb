{
 "cells": [
  {
   "cell_type": "markdown",
   "metadata": {},
   "source": [
    "## 統計的仮説検定\n",
    "\n",
    "統計的仮説検定は、標本を使って、母集団に関する統計的な”判断”を下す方法です。判断の基準といて、確率的な表現を使うことが特徴です。\n",
    "\n",
    "#### 1変量データの$t$検定\n",
    "\n",
    "- 1変量データの$t$検定は以下の特徴があります。\n",
    "  - 対象：平均値\n",
    "  - 判断すること：平均値が”ある値”と異なると言えるかどうか\n",
    "  \n",
    "  例：内容量が50gと書かれたスナック菓子があったとします。しかし49g、51g、など全ての製品で完璧に50gと言うことが難しいです。1変量データの$t$検定は「内容量が50gと異なると言えるかどうか」を判断することができます。\n",
    "\n",
    "\n",
    "#### 有意差\n",
    "\n",
    "- 文字通り、”意味のある差”です。基本的に以下の三つの条件がある時に有意差と言います。\n",
    "   1. サンプルサイズが大きい\n",
    "   2. 測定精度が高くても、分散が大きい\n",
    "   3. 平均値が大きく離れている\n",
    "\n",
    "- この三つの条件を全てあわせた指標を$t$値とよび、以下のように計算されます。\n",
    "\n",
    "  $\n",
    "  t値 = \\frac{標本平均-比較対象値}{標準偏差/\\sqrt(サンプルサイズ)} = \\frac{標本平均-比較対象値}{標準誤差}\n",
    "  $\n",
    "\n",
    "- スナックの例で言うと、$t$値が大きければ50gと「有意差あり」と判断ができることになります。\n",
    "\n",
    "  $\n",
    "  t値 = \\frac{標本平均-50}{標準誤差}\n",
    "  $\n",
    "  \n",
    "  \n",
    "####  統計的仮説検定の枠組み：帰無仮説・対立仮説\n",
    "\n",
    "- 統計的仮説検定では、ある仮説を立てて、その仮説を棄却するしないかと言う判断を下すことで、データからの客観的な判断を試みます。\n",
    "\n",
    "\n",
    "    - 棄却される対象となる最初の仮説を**帰無仮説**と呼びます\n",
    "    - 帰無仮説と対立する仮説を**対立仮説**と呼びます\n",
    "    \n",
    "   スナック菓子の平均値が50gと言えるかどうかを判断する場合には、以下のように仮説を設定します。\n",
    "   - 帰無仮説：スナック菓子の平均重量は50gである\n",
    "   - 対立仮説：スナック菓子の平均重量は50gと異なる\n",
    "   \n",
    "   帰無仮説が棄却された、すなわち帰無仮説が間違っていると判断されたならば、有意差あり、すなわち「スナック菓子の平均重量は50gと異なる」と判断することなります。少々遠回りして判断を下すことになりますが、厳密性を重んじた結果です。\n",
    "\n",
    "\n",
    "####  $p$値\n",
    "- $p$値とは、標本と帰無仮説との矛盾の目安となる指標です。$p$値が小さい程、帰無仮説と標本が矛盾していると考えます。\n",
    "- $p$値が**有意水準**を下回った時に、帰無仮説を棄却します。\n",
    "\n",
    "#### $t$検定\n",
    "\n",
    "\n",
    "  　$\n",
    "  　t値 = \\frac{標本平均-50}{標準誤差}\n",
    "  　$\n",
    "  \n",
    "  - 母集団が平均50の正規分布であると仮定すると、標本の$t$値が$t$分布を従うことになります。\n",
    "  - t分布の累積分布関数を使うと「母平均を50と仮定した時に、$t$値が$t_{標本}$を下回る確率」を$\\alpha$とします。\n",
    "  \n",
    "  \n",
    " #### $p$値の計算方法\n",
    " 両側検定を行うことを前提として$p$値を計算します。\n",
    " 今回の標本から計算された$t$値を$t_{標本}$とします。$t$分布の累積分布関数を使うと「母平均を50と仮定した時に、$t$値が$t_{標本}$を下回る確率」を計算することができます。この確率を$\\alpha$とします。\n",
    " \n",
    "   - $p$値は以下のように計算されます。\n",
    "   \n",
    "   $\n",
    "   p値 = (1-\\alpha)x2\n",
    "   $\n"
   ]
  },
  {
   "cell_type": "code",
   "execution_count": 1,
   "metadata": {},
   "outputs": [],
   "source": [
    "import numpy as np\n",
    "import matplotlib.pyplot as plt\n",
    "from scipy import stats\n",
    "import seaborn as sns\n",
    "sns.set()\n",
    "\n",
    "%precision 3\n",
    "%matplotlib inline\n"
   ]
  },
  {
   "cell_type": "code",
   "execution_count": 3,
   "metadata": {},
   "outputs": [
    {
     "name": "stdout",
     "output_type": "stream",
     "text": [
      "[48.476 51.975 51.175 51.5   48.764 46.601 50.135 53.512 48.447 44.634\n",
      " 43.72  51.227 42.983 44.64  51.716 45.849 44.916 49.734 53.322 56.269]\n"
     ]
    }
   ],
   "source": [
    "#Create random data\n",
    "norm_dist = stats.norm(loc=49, scale=4)\n",
    "data = norm_dist.rvs(size=20)\n",
    "print(data)"
   ]
  },
  {
   "cell_type": "markdown",
   "metadata": {},
   "source": [
    "### $t$検定の実装：$t$値の計算\n",
    "\n",
    "このデータを対象に、1標本の＄t＄検定を実行します。\n",
    "以下の要領で検定を行います。\n",
    "- 帰無仮説：スナック菓子の平均重量は50gである。\n",
    "- 対立仮説：スナック菓子の平均重量は50gと異なる。\n",
    "- 有意水準は５％とします。$p$値が０.０５を下回れば、帰無仮説は棄却され、スナック菓子の重量は有意に50gと異なることと主張できることになります。"
   ]
  },
  {
   "cell_type": "code",
   "execution_count": 4,
   "metadata": {},
   "outputs": [
    {
     "data": {
      "text/plain": [
       "48.97973239744992"
      ]
     },
     "execution_count": 4,
     "metadata": {},
     "output_type": "execute_result"
    }
   ],
   "source": [
    "mu = np.mean(data)\n",
    "mu"
   ]
  },
  {
   "cell_type": "code",
   "execution_count": 5,
   "metadata": {},
   "outputs": [
    {
     "data": {
      "text/plain": [
       "19"
      ]
     },
     "execution_count": 5,
     "metadata": {},
     "output_type": "execute_result"
    }
   ],
   "source": [
    "df = len(data)-1\n",
    "df"
   ]
  },
  {
   "cell_type": "code",
   "execution_count": 6,
   "metadata": {},
   "outputs": [
    {
     "data": {
      "text/plain": [
       "0.8287877530009577"
      ]
     },
     "execution_count": 6,
     "metadata": {},
     "output_type": "execute_result"
    }
   ],
   "source": [
    "sigma = np.std(data, ddof=1)\n",
    "se = sigma / np.sqrt(len(data))\n",
    "se"
   ]
  },
  {
   "cell_type": "code",
   "execution_count": 7,
   "metadata": {},
   "outputs": [
    {
     "data": {
      "text/plain": [
       "-1.2310360509741978"
      ]
     },
     "execution_count": 7,
     "metadata": {},
     "output_type": "execute_result"
    }
   ],
   "source": [
    "t_value = (mu - 50)/se\n",
    "t_value"
   ]
  },
  {
   "cell_type": "markdown",
   "metadata": {},
   "source": [
    "### 𝑡 検定の実装：$p$値の計算\n",
    "\n",
    "- 母集団が正規分布を仮定すると、$t$値が$t$分布を従うことになります。$t$分布の累積分布関数が使えます。\n",
    "- 両側検定を行うことを前提として 𝑝 値を計算します。 今回の標本から計算された 𝑡 値を 𝑡標本 とします。 𝑡 分布の累積分布関数を使うと「母平均を50と仮定した時に、 𝑡 値が 𝑡標本 を下回る確率」を計算することができます。この確率を 𝛼 とします。\n",
    "- 1-$\\alpha$が小さければ、「$t$値が$t_{標本}$より上回る確率が低い（すなわち有意差あり）」\n",
    "- $p$値が小さければ、有意差あり\n"
   ]
  },
  {
   "cell_type": "code",
   "execution_count": 8,
   "metadata": {},
   "outputs": [
    {
     "data": {
      "text/plain": [
       "1.766668864328313"
      ]
     },
     "execution_count": 8,
     "metadata": {},
     "output_type": "execute_result"
    }
   ],
   "source": [
    "alpha = stats.t.cdf(t_value, df=df)\n",
    "p = (1-alpha)*2 #両側検定\n",
    "p"
   ]
  },
  {
   "cell_type": "markdown",
   "metadata": {},
   "source": [
    "$p$値が0.05より小さいと有意差あり、このデータの場合は有意差ありと言えないため、帰無仮説を棄却できない。\n",
    "\n",
    "「スナック菓子の平均重量は50gである。」"
   ]
  },
  {
   "cell_type": "code",
   "execution_count": 9,
   "metadata": {},
   "outputs": [
    {
     "name": "stdout",
     "output_type": "stream",
     "text": [
      "[49.406 56.472 57.526 58.785 59.604 49.489 52.457 56.438 54.581 54.852\n",
      " 54.098 55.057 55.98  57.136 52.878 56.947 57.762 55.044 57.049 56.746]\n"
     ]
    }
   ],
   "source": [
    "#Create random data\n",
    "norm_dist = stats.norm(loc=56, scale=4)\n",
    "data1 = norm_dist.rvs(size=20)\n",
    "print(data1)"
   ]
  },
  {
   "cell_type": "code",
   "execution_count": 11,
   "metadata": {},
   "outputs": [
    {
     "name": "stdout",
     "output_type": "stream",
     "text": [
      "p値は3.2909363234523425e-08\n"
     ]
    }
   ],
   "source": [
    "#標本平均\n",
    "mu = np.mean(data1)\n",
    "mu\n",
    "\n",
    "#自由度\n",
    "df = len(data1)-1\n",
    "df\n",
    "\n",
    "#標準誤差\n",
    "sigma = np.std(data1, ddof=1)\n",
    "se = sigma / np.sqrt(len(data1))\n",
    "se\n",
    "\n",
    "#t値\n",
    "t_value = (mu - 50)/se\n",
    "t_value\n",
    "\n",
    "#p値\n",
    "alpha = stats.t.cdf(t_value, df=df)\n",
    "p = (1-alpha)*2 #両側検定\n",
    "print('p値は{}'.format(p))"
   ]
  },
  {
   "cell_type": "markdown",
   "metadata": {},
   "source": [
    "$p$値が0.05より小さいと有意差あり、このデータの場合は有意差ありと言え、帰無仮説を棄却し、対立仮説を採択します。\n",
    "\n",
    "「スナック菓子の平均重量は50gと異なる。」"
   ]
  },
  {
   "cell_type": "code",
   "execution_count": null,
   "metadata": {},
   "outputs": [],
   "source": []
  }
 ],
 "metadata": {
  "kernelspec": {
   "display_name": "Python 3",
   "language": "python",
   "name": "python3"
  },
  "language_info": {
   "codemirror_mode": {
    "name": "ipython",
    "version": 3
   },
   "file_extension": ".py",
   "mimetype": "text/x-python",
   "name": "python",
   "nbconvert_exporter": "python",
   "pygments_lexer": "ipython3",
   "version": "3.7.9"
  }
 },
 "nbformat": 4,
 "nbformat_minor": 4
}
