{
 "cells": [
  {
   "cell_type": "markdown",
   "metadata": {},
   "source": [
    "## 統計学\n",
    "\n",
    "\n",
    "1. 統計学の目的：統計学は、データの’よい’使い方を探る学問。\n",
    "\n",
    "  - 手持ちのデータを整理・要約するという目的で生み出された統計学のジャネルを**記述統計**と呼びます。\n",
    "  - 手持ちのデータを用いて未知データの推測ができるジャンル のが**推測統計**です。\n",
    "\n",
    "\n",
    "2. 用語\n",
    "  - **標本**とは、手持ちのデータ\n",
    "  - **母集団**とは、まだ手に入れてない未知のデータを含んだ、すべてのデータのことです。\n",
    "  - 標本という一部のデータのみを用いて、母集団という全体について議論することが推測統計の目的です。\n",
    "  - 確率的な法則に従って変化する値を**確率変数**と呼びます。\n",
    "  - **確率分布**は、確率変数とそれに付与された確率との対応を表したもの\n",
    "  \n",
    "  \n",
    "3. 記述統計の基礎\n",
    "  - 数値型の変数：連続変数/離散変数\n",
    "  - カテゴリかたの変数：名義尺度/順序尺度\n",
    "  - 階級・階級値\n",
    "  - 度数・度数分布・相対度数\n",
    "  - 累積度数・累積相対度数\n",
    "  - ヒストグラム\n",
    "  - 統計量：　データを集計した値のことを、統計量と呼びます\n",
    "  - 平均値/期待値：**期待値は「まだ手に入れていない未知のデータであっても適用できる平均値」**\n",
    "  - 分散：「データが平均値とどれだけ離れているか」を表した指標\n",
    "  \n",
    "  \n",
    "4. 母集団分布の推定＝分布の決定＋母数の推定\n",
    "  　母集団の分布を推定するという行為は、①分布の形を決める②母数（確率分布のパラメタ）を決める\n"
   ]
  },
  {
   "cell_type": "code",
   "execution_count": 1,
   "metadata": {},
   "outputs": [
    {
     "data": {
      "text/plain": [
       "array([2, 3, 3, 4, 4, 4, 4, 5, 5, 6])"
      ]
     },
     "execution_count": 1,
     "metadata": {},
     "output_type": "execute_result"
    }
   ],
   "source": [
    "# 1 variable\n",
    "import numpy as np\n",
    "import scipy as sp\n",
    "\n",
    "%precision 3\n",
    "fish_data = np.array([2,3,3,4,4,4,4,5,5,6])\n",
    "fish_data"
   ]
  },
  {
   "cell_type": "code",
   "execution_count": 4,
   "metadata": {},
   "outputs": [
    {
     "data": {
      "text/plain": [
       "40"
      ]
     },
     "execution_count": 4,
     "metadata": {},
     "output_type": "execute_result"
    }
   ],
   "source": [
    "#sum\n",
    "np.sum(fish_data)"
   ]
  },
  {
   "cell_type": "code",
   "execution_count": 6,
   "metadata": {},
   "outputs": [
    {
     "data": {
      "text/plain": [
       "4.0"
      ]
     },
     "execution_count": 6,
     "metadata": {},
     "output_type": "execute_result"
    }
   ],
   "source": [
    "#mean\n",
    "mu = np.mean(fish_data)\n",
    "mu"
   ]
  },
  {
   "cell_type": "code",
   "execution_count": 8,
   "metadata": {},
   "outputs": [
    {
     "data": {
      "text/plain": [
       "1.2"
      ]
     },
     "execution_count": 8,
     "metadata": {},
     "output_type": "execute_result"
    }
   ],
   "source": [
    "# deviation\n",
    "sigma_2_sample = np.sum((fish_data - mu)**2)/len(fish_data)\n",
    "sigma_2_sample"
   ]
  },
  {
   "cell_type": "code",
   "execution_count": 14,
   "metadata": {},
   "outputs": [
    {
     "name": "stdout",
     "output_type": "stream",
     "text": [
      "1.3333333333333333\n",
      "1.3333333333333333\n"
     ]
    }
   ],
   "source": [
    "#不変分散\n",
    "\n",
    "sigma_2 = np.sum((fish_data - mu)**2)/(len(fish_data)-1)\n",
    "print(sigma_2)\n",
    "\n",
    "var = np.var(fish_data, ddof=1)\n",
    "print(var)"
   ]
  },
  {
   "cell_type": "code",
   "execution_count": 16,
   "metadata": {},
   "outputs": [
    {
     "name": "stdout",
     "output_type": "stream",
     "text": [
      "1.1547005383792515\n"
     ]
    }
   ],
   "source": [
    "#標準偏差\n",
    "sigma = np.sqrt(sigma_2)\n",
    "print(sigma)"
   ]
  },
  {
   "cell_type": "code",
   "execution_count": null,
   "metadata": {},
   "outputs": [],
   "source": []
  }
 ],
 "metadata": {
  "kernelspec": {
   "display_name": "Python 3",
   "language": "python",
   "name": "python3"
  },
  "language_info": {
   "codemirror_mode": {
    "name": "ipython",
    "version": 3
   },
   "file_extension": ".py",
   "mimetype": "text/x-python",
   "name": "python",
   "nbconvert_exporter": "python",
   "pygments_lexer": "ipython3",
   "version": "3.6.12"
  }
 },
 "nbformat": 4,
 "nbformat_minor": 4
}
