{
 "cells": [
  {
   "cell_type": "markdown",
   "metadata": {},
   "source": [
    "# 推定\n",
    "\n",
    "- 母数、すなわち母集団のパラメタ推定する\n",
    "- 母集団分布に正規分布を仮定した場合、パラメタがわかれば母集団分布が推定できることになる"
   ]
  },
  {
   "cell_type": "code",
   "execution_count": 1,
   "metadata": {},
   "outputs": [
    {
     "data": {
      "text/plain": [
       "'%.3f'"
      ]
     },
     "execution_count": 1,
     "metadata": {},
     "output_type": "execute_result"
    }
   ],
   "source": [
    "import numpy as np\n",
    "import pandas as pd\n",
    "import scipy as sp\n",
    "from scipy import stats\n",
    "\n",
    "from matplotlib import pyplot as plt\n",
    "import seaborn as sns\n",
    "sns.set()\n",
    "\n",
    "%matplotlib inline\n",
    "%precision 3"
   ]
  },
  {
   "cell_type": "code",
   "execution_count": 2,
   "metadata": {},
   "outputs": [
    {
     "name": "stdout",
     "output_type": "stream",
     "text": [
      "[2.617 4.11  1.633 2.736 4.511 4.539 4.262 3.505 4.036 4.824]\n"
     ]
    }
   ],
   "source": [
    "#Create random data\n",
    "norm_dist = stats.norm(loc=4, scale=0.8)\n",
    "data = norm_dist.rvs(size=10)\n",
    "print(data)"
   ]
  },
  {
   "cell_type": "markdown",
   "metadata": {},
   "source": [
    "### 点推定\n",
    "- 母集団分布のパラメタをある一つの値として指定する推定方法\n",
    "- 母平均を推定する場合、標本平均を推定量として使います。 要するに、私たちがやることは、標本から平均値を計算するだけです。\n",
    "-　母分散は不変分散を推定量として使います。"
   ]
  },
  {
   "cell_type": "code",
   "execution_count": 3,
   "metadata": {},
   "outputs": [
    {
     "name": "stdout",
     "output_type": "stream",
     "text": [
      "3.677386772034846\n"
     ]
    }
   ],
   "source": [
    "mu = np.mean(data)\n",
    "print(mu)"
   ]
  },
  {
   "cell_type": "code",
   "execution_count": 4,
   "metadata": {},
   "outputs": [
    {
     "name": "stdout",
     "output_type": "stream",
     "text": [
      "1.0699727587574877\n"
     ]
    }
   ],
   "source": [
    "sigma_2 = np.var(data, ddof=1)\n",
    "print(sigma_2)"
   ]
  },
  {
   "cell_type": "markdown",
   "metadata": {},
   "source": [
    "### 区間推定\n",
    "\n",
    "- 区間推定とは、推定値に幅を持たせた推定方法のことです。推定値の幅の計算には、確率の考え方を用います。\n",
    "- 幅を持たせたことで、推定誤差を加味することができます。\n",
    "- 推定誤差が小さければ、区間推定の幅は狭くなります。\n",
    "- サンプルサイズが大きくても、やはり区間推定の幅は狭くなります。\n",
    "- **信頼係数**とは、区間推定の幅における信頼の度合いを、確率で表現したものです。例えば、95%と99%といった通知がよく使われます。\n",
    "- 同じデータを対象とした場合は、信頼係数が大きいほど、信頼区間の幅は広くなります。\n",
    "- 信頼限界とは、信頼区間の下限値、上限値のことです。それぞれは下側信頼限界と上側信頼限界\n",
    "\n",
    "\n",
    "#### 信頼区間の計算方法\n",
    "\n",
    "- 「(標本平均-母平均)/標準誤差」で計算される$t$値は$t$分布に従います。区間推定の際は、$t$分布のパーセント点（ある確率になる基準値）を用います。信頼係数を95%とするならば、2.5%と97.5%点を計算します。$t$分布に従う変数がこの区間に入る確率は95%と言うことになります。\n"
   ]
  },
  {
   "cell_type": "code",
   "execution_count": 7,
   "metadata": {},
   "outputs": [
    {
     "name": "stdout",
     "output_type": "stream",
     "text": [
      "1.0343948756434787\n",
      "0.3271043807040021\n"
     ]
    }
   ],
   "source": [
    "# 区間推定に必要な情報は、自由度(サンプルサイズ-1)、標本平均、標本誤差も三つです。\n",
    "\n",
    "#自由度\n",
    "df = len(data) - 1 \n",
    "\n",
    "#標本誤差\n",
    "sigma = np.std(data, ddof=1)\n",
    "print(sigma)\n",
    "se = sigma / np.sqrt(len(data))\n",
    "print(se)"
   ]
  },
  {
   "cell_type": "code",
   "execution_count": 11,
   "metadata": {},
   "outputs": [
    {
     "name": "stdout",
     "output_type": "stream",
     "text": [
      "(2.9374252542613313, 4.417348289808361)\n"
     ]
    }
   ],
   "source": [
    "%precision 3\n",
    "#あとはこの情報を使って、信頼区間を計算します。\n",
    "interval = stats.t.interval(alpha = 0.95, df=df, loc=mu, scale=se)\n",
    "print(interval)"
   ]
  },
  {
   "cell_type": "code",
   "execution_count": null,
   "metadata": {},
   "outputs": [],
   "source": []
  }
 ],
 "metadata": {
  "kernelspec": {
   "display_name": "Python 3",
   "language": "python",
   "name": "python3"
  },
  "language_info": {
   "codemirror_mode": {
    "name": "ipython",
    "version": 3
   },
   "file_extension": ".py",
   "mimetype": "text/x-python",
   "name": "python",
   "nbconvert_exporter": "python",
   "pygments_lexer": "ipython3",
   "version": "3.7.9"
  }
 },
 "nbformat": 4,
 "nbformat_minor": 4
}
