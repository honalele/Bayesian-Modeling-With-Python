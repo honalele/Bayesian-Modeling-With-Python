{
 "cells": [
  {
   "cell_type": "markdown",
   "metadata": {},
   "source": [
    "### 統計的モデリング\n",
    "\n",
    "- モデル：現実世界の理解や予測に活用することができます。\n",
    "- 数理モデル：現象を数式で表現したモデル\n",
    "- 確率モデル：不確実性を確率理論を用いてモデルに取り組んだモデル\n",
    "- 統計モデル：データに適合するように構築された確率モデル\n",
    "\n",
    "#### モデルの構築＝モデルの特定＋パラメタ推定\n",
    "\n",
    "#### 情報量基準による変数選択\n",
    "- 情報量基準は推定されたモデルの”良さ（の一面）”を」定量化した指標です。\n",
    "- 赤池の情報量基準(Akaike's information criterion: AIC)などしばしば使われます。AICは小さければ小さいほど”良いモデル”だと判断されます。\n",
    "\n",
    "$\n",
    "AIC = -2 * (最大化対数尤度ー推定されたパラメタの個数)\n",
    "$\n",
    "\n",
    "#### パラメタ推定：尤度の最大化\n",
    "- 尤度：パラメタが定まった時における、標本が得られる確率（密度）\n",
    "- 尤度関数：パラメタを指定すると尤度が計算される関数\n",
    "- 対数尤度：尤度の対数を取ったもの(単調増加、掛け算が足し算になる、絶対値が極端に小さくなりにくい)\n",
    "- 最尤法：尤度や対数尤度を最大にするパラメタを、パラメタの推定値として採用する方法\n",
    "- 最尤推定量：最尤法によって推定されたパラメタ\n",
    "\n",
    "#### 予測精度の評価と変数選択\n",
    "- AICは予測精度のよさを重視します。**相対エントロピー**は「真の分布と統計モデルにより得られた分布との差異」を測る指標を学びます。\n",
    "$\n",
    "相対エントロピー=\\int{g(x) log{\\frac{g(x)}{f(x)}}}\n",
    "$"
   ]
  },
  {
   "cell_type": "code",
   "execution_count": 3,
   "metadata": {},
   "outputs": [],
   "source": [
    "import numpy as np\n",
    "import pandas as pd\n",
    "import scipy as sp\n",
    "from scipy import stats\n",
    "\n",
    "from matplotlib import pyplot as plt\n",
    "import seaborn as sns\n",
    "sns.set()\n",
    "\n",
    "import statsmodels.formula.api as smf\n",
    "import statsmodels.api as sm\n",
    "\n",
    "%precision 3\n",
    "%matplotlib inline"
   ]
  },
  {
   "cell_type": "code",
   "execution_count": 2,
   "metadata": {},
   "outputs": [
    {
     "name": "stdout",
     "output_type": "stream",
     "text": [
      "Collecting statsmodels\n",
      "  Downloading statsmodels-0.12.1-cp37-cp37m-macosx_10_13_x86_64.whl (9.6 MB)\n",
      "\u001b[K     |████████████████████████████████| 9.6 MB 111 kB/s eta 0:00:01\n",
      "\u001b[?25hRequirement already satisfied: scipy>=1.1 in /Users/narenbao/anaconda3/envs/op/lib/python3.7/site-packages (from statsmodels) (1.5.2)\n",
      "Requirement already satisfied: patsy>=0.5 in /Users/narenbao/anaconda3/envs/op/lib/python3.7/site-packages (from statsmodels) (0.5.1)\n",
      "Requirement already satisfied: numpy>=1.15 in /Users/narenbao/anaconda3/envs/op/lib/python3.7/site-packages (from statsmodels) (1.19.2)\n",
      "Requirement already satisfied: pandas>=0.21 in /Users/narenbao/anaconda3/envs/op/lib/python3.7/site-packages (from statsmodels) (1.1.2)\n",
      "Requirement already satisfied: six in /Users/narenbao/anaconda3/envs/op/lib/python3.7/site-packages (from patsy>=0.5->statsmodels) (1.15.0)\n",
      "Requirement already satisfied: pytz>=2017.2 in /Users/narenbao/anaconda3/envs/op/lib/python3.7/site-packages (from pandas>=0.21->statsmodels) (2020.1)\n",
      "Requirement already satisfied: python-dateutil>=2.7.3 in /Users/narenbao/anaconda3/envs/op/lib/python3.7/site-packages (from pandas>=0.21->statsmodels) (2.8.1)\n",
      "Installing collected packages: statsmodels\n",
      "Successfully installed statsmodels-0.12.1\n"
     ]
    }
   ],
   "source": [
    "!pip install statsmodels\n",
    "import statsmodels"
   ]
  },
  {
   "cell_type": "code",
   "execution_count": 34,
   "metadata": {},
   "outputs": [
    {
     "name": "stdout",
     "output_type": "stream",
     "text": [
      "        beer  temperature\n",
      "0  27.359473    19.971110\n",
      "1  55.279054    17.662605\n",
      "2  30.292891    17.884924\n",
      "3  44.705596    25.322410\n",
      "4  38.993033     5.483162\n"
     ]
    }
   ],
   "source": [
    "# Create data\n",
    "#Create random data\n",
    "np.random.seed(seed=30) \n",
    "norm_dist = stats.norm(loc=40, scale=10)\n",
    "beer = norm_dist.rvs(size=20)\n",
    "\n",
    "norm_dist2 = stats.norm(loc=20, scale=5)\n",
    "temperature = norm_dist2.rvs(size=20)\n",
    "\n",
    "data = np.zeros((20,2))\n",
    "data[:,0] = beer\n",
    "data[:,1] = temperature\n",
    "\n",
    "df = pd.DataFrame(data)\n",
    "df.columns = ['beer', 'temperature']\n",
    "print(df.head())"
   ]
  },
  {
   "cell_type": "code",
   "execution_count": 35,
   "metadata": {},
   "outputs": [
    {
     "data": {
      "text/plain": [
       "<seaborn.axisgrid.JointGrid at 0x7fd0b6ceded0>"
      ]
     },
     "execution_count": 35,
     "metadata": {},
     "output_type": "execute_result"
    },
    {
     "data": {
      "image/png": "[encoded data removed]",
      "text/plain": [
       "<Figure size 432x432 with 3 Axes>"
      ]
     },
     "metadata": {
      "needs_background": "light"
     },
     "output_type": "display_data"
    }
   ],
   "source": [
    "sns.jointplot(x='temperature', y = 'beer', data=df,color='black')"
   ]
  },
  {
   "cell_type": "code",
   "execution_count": 36,
   "metadata": {},
   "outputs": [],
   "source": [
    "lm_model = smf.ols(formula='beer ~ temperature', data=df).fit()"
   ]
  },
  {
   "cell_type": "code",
   "execution_count": 37,
   "metadata": {},
   "outputs": [
    {
     "data": {
      "text/html": [
       "<table class=\"simpletable\">\n",
       "<caption>OLS Regression Results</caption>\n",
       "<tr>\n",
       "  <th>Dep. Variable:</th>          <td>beer</td>       <th>  R-squared:         </th> <td>   0.012</td>\n",
       "</tr>\n",
       "<tr>\n",
       "  <th>Model:</th>                   <td>OLS</td>       <th>  Adj. R-squared:    </th> <td>  -0.043</td>\n",
       "</tr>\n",
       "<tr>\n",
       "  <th>Method:</th>             <td>Least Squares</td>  <th>  F-statistic:       </th> <td>  0.2094</td>\n",
       "</tr>\n",
       "<tr>\n",
       "  <th>Date:</th>             <td>Fri, 13 Nov 2020</td> <th>  Prob (F-statistic):</th>  <td> 0.653</td> \n",
       "</tr>\n",
       "<tr>\n",
       "  <th>Time:</th>                 <td>07:56:45</td>     <th>  Log-Likelihood:    </th> <td> -76.014</td>\n",
       "</tr>\n",
       "<tr>\n",
       "  <th>No. Observations:</th>      <td>    20</td>      <th>  AIC:               </th> <td>   156.0</td>\n",
       "</tr>\n",
       "<tr>\n",
       "  <th>Df Residuals:</th>          <td>    18</td>      <th>  BIC:               </th> <td>   158.0</td>\n",
       "</tr>\n",
       "<tr>\n",
       "  <th>Df Model:</th>              <td>     1</td>      <th>                     </th>     <td> </td>   \n",
       "</tr>\n",
       "<tr>\n",
       "  <th>Covariance Type:</th>      <td>nonrobust</td>    <th>                     </th>     <td> </td>   \n",
       "</tr>\n",
       "</table>\n",
       "<table class=\"simpletable\">\n",
       "<tr>\n",
       "       <td></td>          <th>coef</th>     <th>std err</th>      <th>t</th>      <th>P>|t|</th>  <th>[0.025</th>    <th>0.975]</th>  \n",
       "</tr>\n",
       "<tr>\n",
       "  <th>Intercept</th>   <td>   43.7046</td> <td>    8.227</td> <td>    5.312</td> <td> 0.000</td> <td>   26.421</td> <td>   60.989</td>\n",
       "</tr>\n",
       "<tr>\n",
       "  <th>temperature</th> <td>   -0.1933</td> <td>    0.422</td> <td>   -0.458</td> <td> 0.653</td> <td>   -1.081</td> <td>    0.694</td>\n",
       "</tr>\n",
       "</table>\n",
       "<table class=\"simpletable\">\n",
       "<tr>\n",
       "  <th>Omnibus:</th>       <td> 1.687</td> <th>  Durbin-Watson:     </th> <td>   2.922</td>\n",
       "</tr>\n",
       "<tr>\n",
       "  <th>Prob(Omnibus):</th> <td> 0.430</td> <th>  Jarque-Bera (JB):  </th> <td>   1.031</td>\n",
       "</tr>\n",
       "<tr>\n",
       "  <th>Skew:</th>          <td>-0.199</td> <th>  Prob(JB):          </th> <td>   0.597</td>\n",
       "</tr>\n",
       "<tr>\n",
       "  <th>Kurtosis:</th>      <td> 1.961</td> <th>  Cond. No.          </th> <td>    63.0</td>\n",
       "</tr>\n",
       "</table><br/><br/>Notes:<br/>[1] Standard Errors assume that the covariance matrix of the errors is correctly specified."
      ],
      "text/plain": [
       "<class 'statsmodels.iolib.summary.Summary'>\n",
       "\"\"\"\n",
       "                            OLS Regression Results                            \n",
       "==============================================================================\n",
       "Dep. Variable:                   beer   R-squared:                       0.012\n",
       "Model:                            OLS   Adj. R-squared:                 -0.043\n",
       "Method:                 Least Squares   F-statistic:                    0.2094\n",
       "Date:                Fri, 13 Nov 2020   Prob (F-statistic):              0.653\n",
       "Time:                        07:56:45   Log-Likelihood:                -76.014\n",
       "No. Observations:                  20   AIC:                             156.0\n",
       "Df Residuals:                      18   BIC:                             158.0\n",
       "Df Model:                           1                                         \n",
       "Covariance Type:            nonrobust                                         \n",
       "===============================================================================\n",
       "                  coef    std err          t      P>|t|      [0.025      0.975]\n",
       "-------------------------------------------------------------------------------\n",
       "Intercept      43.7046      8.227      5.312      0.000      26.421      60.989\n",
       "temperature    -0.1933      0.422     -0.458      0.653      -1.081       0.694\n",
       "==============================================================================\n",
       "Omnibus:                        1.687   Durbin-Watson:                   2.922\n",
       "Prob(Omnibus):                  0.430   Jarque-Bera (JB):                1.031\n",
       "Skew:                          -0.199   Prob(JB):                        0.597\n",
       "Kurtosis:                       1.961   Cond. No.                         63.0\n",
       "==============================================================================\n",
       "\n",
       "Notes:\n",
       "[1] Standard Errors assume that the covariance matrix of the errors is correctly specified.\n",
       "\"\"\""
      ]
     },
     "execution_count": 37,
     "metadata": {},
     "output_type": "execute_result"
    }
   ],
   "source": [
    "lm_model.summary()"
   ]
  },
  {
   "cell_type": "code",
   "execution_count": 38,
   "metadata": {},
   "outputs": [
    {
     "data": {
      "text/plain": [
       "<seaborn.axisgrid.FacetGrid at 0x7fd0b5c3e610>"
      ]
     },
     "execution_count": 38,
     "metadata": {},
     "output_type": "execute_result"
    },
    {
     "data": {
      "image/png": "[encoded data removed]",
      "text/plain": [
       "<Figure size 360x360 with 1 Axes>"
      ]
     },
     "metadata": {
      "needs_background": "light"
     },
     "output_type": "display_data"
    }
   ],
   "source": [
    "sns.lmplot(x='temperature', y='beer', data=df, scatter_kws={'color':'black'},\n",
    "          line_kws={'color':'black'})"
   ]
  },
  {
   "cell_type": "code",
   "execution_count": 39,
   "metadata": {},
   "outputs": [
    {
     "data": {
      "text/plain": [
       "0   -12.485166\n",
       "1    14.988232\n",
       "2    -9.954962\n",
       "3     5.895244\n",
       "4    -3.651804\n",
       "dtype: float64"
      ]
     },
     "execution_count": 39,
     "metadata": {},
     "output_type": "execute_result"
    }
   ],
   "source": [
    "#残差\n",
    "resid = lm_model.resid\n",
    "resid.head()"
   ]
  },
  {
   "cell_type": "code",
   "execution_count": 46,
   "metadata": {},
   "outputs": [
    {
     "name": "stderr",
     "output_type": "stream",
     "text": [
      "/Users/narenbao/anaconda3/envs/op/lib/python3.7/site-packages/seaborn/distributions.py:2551: FutureWarning: `distplot` is a deprecated function and will be removed in a future version. Please adapt your code to use either `displot` (a figure-level function with similar flexibility) or `histplot` (an axes-level function for histograms).\n",
      "  warnings.warn(msg, FutureWarning)\n"
     ]
    },
    {
     "data": {
      "text/plain": [
       "<AxesSubplot:ylabel='Density'>"
      ]
     },
     "execution_count": 46,
     "metadata": {},
     "output_type": "execute_result"
    },
    {
     "data": {
      "image/png": "[encoded data removed]",
      "text/plain": [
       "<Figure size 432x288 with 1 Axes>"
      ]
     },
     "metadata": {
      "needs_background": "light"
     },
     "output_type": "display_data"
    }
   ],
   "source": [
    "sns.distplot(resid, color='black')"
   ]
  },
  {
   "cell_type": "code",
   "execution_count": 47,
   "metadata": {},
   "outputs": [
    {
     "data": {
      "image/png": "[encoded data removed]",
      "text/plain": [
       "<Figure size 432x288 with 1 Axes>"
      ]
     },
     "metadata": {
      "needs_background": "light"
     },
     "output_type": "display_data"
    }
   ],
   "source": [
    "fig = sm.qqplot(resid, line='s')\n",
    "#残差が正規分布に従っていれば、この線上にポイントされる"
   ]
  },
  {
   "cell_type": "code",
   "execution_count": null,
   "metadata": {},
   "outputs": [],
   "source": []
  }
 ],
 "metadata": {
  "kernelspec": {
   "display_name": "Python 3",
   "language": "python",
   "name": "python3"
  },
  "language_info": {
   "codemirror_mode": {
    "name": "ipython",
    "version": 3
   },
   "file_extension": ".py",
   "mimetype": "text/x-python",
   "name": "python",
   "nbconvert_exporter": "python",
   "pygments_lexer": "ipython3",
   "version": "3.7.9"
  }
 },
 "nbformat": 4,
 "nbformat_minor": 4
}
