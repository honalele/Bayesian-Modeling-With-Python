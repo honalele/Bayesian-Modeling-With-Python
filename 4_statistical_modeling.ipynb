{
 "cells": [
  {
   "cell_type": "markdown",
   "metadata": {},
   "source": [
    "### 統計的モデリング\n",
    "\n",
    "- モデル：現実世界の理解や予測に活用することができます。\n",
    "- 数理モデル：現象を数式で表現したモデル\n",
    "- 確率モデル：不確実性を確率理論を用いてモデルに取り組んだモデル\n",
    "- 統計モデル：データに適合するように構築された確率モデル\n",
    "\n",
    "#### モデルの構築＝モデルの特定＋パラメタ推定\n",
    "\n",
    "#### 情報量基準による変数選択\n",
    "- 情報量基準は推定されたモデルの”良さ（の一面）”を」定量化した指標です。\n",
    "- 赤池の情報量基準(Akaike's information criterion: AIC)などしばしば使われます。AICは小さければ小さいほど”良いモデル”だと判断されます。\n",
    "\n",
    "#### パラメタ推定：尤度の最大化\n",
    "- 尤度：パラメタが定まった時における、標本が得られる確率（密度）\n",
    "- 尤度関数：パラメタを指定すると尤度が計算される関数\n",
    "- 対数尤度：尤度の対数を取ったもの\n",
    "- 最尤法：尤度や対数尤度を最大にするパラメタを、パラメタの推定値として採用する方法\n",
    "- 最尤推定量：最尤法によって推定されたパラメタ"
   ]
  }
 ],
 "metadata": {
  "kernelspec": {
   "display_name": "Python 3",
   "language": "python",
   "name": "python3"
  },
  "language_info": {
   "codemirror_mode": {
    "name": "ipython",
    "version": 3
   },
   "file_extension": ".py",
   "mimetype": "text/x-python",
   "name": "python",
   "nbconvert_exporter": "python",
   "pygments_lexer": "ipython3",
   "version": "3.6.12"
  }
 },
 "nbformat": 4,
 "nbformat_minor": 4
}
